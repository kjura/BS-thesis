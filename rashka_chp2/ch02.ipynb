{
 "cells": [
  {
   "cell_type": "code",
   "execution_count": 20,
   "outputs": [],
   "source": [
    "import numpy as np\n",
    "import pandas as pd\n",
    "import matplotlib.pyplot as plt"
   ],
   "metadata": {
    "collapsed": false,
    "pycharm": {
     "name": "#%%\n"
    }
   }
  },
  {
   "cell_type": "markdown",
   "source": [
    "Load the iris dataset by using pandas."
   ],
   "metadata": {
    "collapsed": false
   }
  },
  {
   "cell_type": "code",
   "execution_count": 15,
   "outputs": [
    {
     "data": {
      "text/plain": "       0    1    2    3               4\n0    5.1  3.5  1.4  0.2     Iris-setosa\n1    4.9  3.0  1.4  0.2     Iris-setosa\n2    4.7  3.2  1.3  0.2     Iris-setosa\n3    4.6  3.1  1.5  0.2     Iris-setosa\n4    5.0  3.6  1.4  0.2     Iris-setosa\n..   ...  ...  ...  ...             ...\n145  6.7  3.0  5.2  2.3  Iris-virginica\n146  6.3  2.5  5.0  1.9  Iris-virginica\n147  6.5  3.0  5.2  2.0  Iris-virginica\n148  6.2  3.4  5.4  2.3  Iris-virginica\n149  5.9  3.0  5.1  1.8  Iris-virginica\n\n[150 rows x 5 columns]",
      "text/html": "<div>\n<style scoped>\n    .dataframe tbody tr th:only-of-type {\n        vertical-align: middle;\n    }\n\n    .dataframe tbody tr th {\n        vertical-align: top;\n    }\n\n    .dataframe thead th {\n        text-align: right;\n    }\n</style>\n<table border=\"1\" class=\"dataframe\">\n  <thead>\n    <tr style=\"text-align: right;\">\n      <th></th>\n      <th>0</th>\n      <th>1</th>\n      <th>2</th>\n      <th>3</th>\n      <th>4</th>\n    </tr>\n  </thead>\n  <tbody>\n    <tr>\n      <th>0</th>\n      <td>5.1</td>\n      <td>3.5</td>\n      <td>1.4</td>\n      <td>0.2</td>\n      <td>Iris-setosa</td>\n    </tr>\n    <tr>\n      <th>1</th>\n      <td>4.9</td>\n      <td>3.0</td>\n      <td>1.4</td>\n      <td>0.2</td>\n      <td>Iris-setosa</td>\n    </tr>\n    <tr>\n      <th>2</th>\n      <td>4.7</td>\n      <td>3.2</td>\n      <td>1.3</td>\n      <td>0.2</td>\n      <td>Iris-setosa</td>\n    </tr>\n    <tr>\n      <th>3</th>\n      <td>4.6</td>\n      <td>3.1</td>\n      <td>1.5</td>\n      <td>0.2</td>\n      <td>Iris-setosa</td>\n    </tr>\n    <tr>\n      <th>4</th>\n      <td>5.0</td>\n      <td>3.6</td>\n      <td>1.4</td>\n      <td>0.2</td>\n      <td>Iris-setosa</td>\n    </tr>\n    <tr>\n      <th>...</th>\n      <td>...</td>\n      <td>...</td>\n      <td>...</td>\n      <td>...</td>\n      <td>...</td>\n    </tr>\n    <tr>\n      <th>145</th>\n      <td>6.7</td>\n      <td>3.0</td>\n      <td>5.2</td>\n      <td>2.3</td>\n      <td>Iris-virginica</td>\n    </tr>\n    <tr>\n      <th>146</th>\n      <td>6.3</td>\n      <td>2.5</td>\n      <td>5.0</td>\n      <td>1.9</td>\n      <td>Iris-virginica</td>\n    </tr>\n    <tr>\n      <th>147</th>\n      <td>6.5</td>\n      <td>3.0</td>\n      <td>5.2</td>\n      <td>2.0</td>\n      <td>Iris-virginica</td>\n    </tr>\n    <tr>\n      <th>148</th>\n      <td>6.2</td>\n      <td>3.4</td>\n      <td>5.4</td>\n      <td>2.3</td>\n      <td>Iris-virginica</td>\n    </tr>\n    <tr>\n      <th>149</th>\n      <td>5.9</td>\n      <td>3.0</td>\n      <td>5.1</td>\n      <td>1.8</td>\n      <td>Iris-virginica</td>\n    </tr>\n  </tbody>\n</table>\n<p>150 rows × 5 columns</p>\n</div>"
     },
     "execution_count": 15,
     "metadata": {},
     "output_type": "execute_result"
    }
   ],
   "source": [
    "#try:\n",
    "    #csv_path = \"../Thesis/data/iris.csv\"\n",
    "    #df = pd.read_csv(csv_path)\n",
    "#except NameError:\n",
    "    #print(\"The path\", csv_path, \"cannot be found\")\n",
    "\n",
    "df = pd.read_csv(\"../data/iris.csv\", header=None, encoding=\"utf-8\")\n",
    "df"
   ],
   "metadata": {
    "collapsed": false,
    "pycharm": {
     "name": "#%%\n"
    }
   }
  },
  {
   "cell_type": "markdown",
   "source": [
    "Glance at the first 5 records:"
   ],
   "metadata": {
    "collapsed": false,
    "pycharm": {
     "name": "#%% md\n"
    }
   }
  },
  {
   "cell_type": "code",
   "execution_count": 16,
   "outputs": [
    {
     "data": {
      "text/plain": "     0    1    2    3            4\n0  5.1  3.5  1.4  0.2  Iris-setosa\n1  4.9  3.0  1.4  0.2  Iris-setosa\n2  4.7  3.2  1.3  0.2  Iris-setosa\n3  4.6  3.1  1.5  0.2  Iris-setosa\n4  5.0  3.6  1.4  0.2  Iris-setosa",
      "text/html": "<div>\n<style scoped>\n    .dataframe tbody tr th:only-of-type {\n        vertical-align: middle;\n    }\n\n    .dataframe tbody tr th {\n        vertical-align: top;\n    }\n\n    .dataframe thead th {\n        text-align: right;\n    }\n</style>\n<table border=\"1\" class=\"dataframe\">\n  <thead>\n    <tr style=\"text-align: right;\">\n      <th></th>\n      <th>0</th>\n      <th>1</th>\n      <th>2</th>\n      <th>3</th>\n      <th>4</th>\n    </tr>\n  </thead>\n  <tbody>\n    <tr>\n      <th>0</th>\n      <td>5.1</td>\n      <td>3.5</td>\n      <td>1.4</td>\n      <td>0.2</td>\n      <td>Iris-setosa</td>\n    </tr>\n    <tr>\n      <th>1</th>\n      <td>4.9</td>\n      <td>3.0</td>\n      <td>1.4</td>\n      <td>0.2</td>\n      <td>Iris-setosa</td>\n    </tr>\n    <tr>\n      <th>2</th>\n      <td>4.7</td>\n      <td>3.2</td>\n      <td>1.3</td>\n      <td>0.2</td>\n      <td>Iris-setosa</td>\n    </tr>\n    <tr>\n      <th>3</th>\n      <td>4.6</td>\n      <td>3.1</td>\n      <td>1.5</td>\n      <td>0.2</td>\n      <td>Iris-setosa</td>\n    </tr>\n    <tr>\n      <th>4</th>\n      <td>5.0</td>\n      <td>3.6</td>\n      <td>1.4</td>\n      <td>0.2</td>\n      <td>Iris-setosa</td>\n    </tr>\n  </tbody>\n</table>\n</div>"
     },
     "execution_count": 16,
     "metadata": {},
     "output_type": "execute_result"
    }
   ],
   "source": [
    "df.head()"
   ],
   "metadata": {
    "collapsed": false,
    "pycharm": {
     "name": "#%%\n"
    }
   }
  },
  {
   "cell_type": "markdown",
   "source": [
    "Similarly for the 5 last:"
   ],
   "metadata": {
    "collapsed": false,
    "pycharm": {
     "name": "#%% md\n"
    }
   }
  },
  {
   "cell_type": "code",
   "execution_count": 18,
   "outputs": [
    {
     "data": {
      "text/plain": "       0    1    2    3               4\n145  6.7  3.0  5.2  2.3  Iris-virginica\n146  6.3  2.5  5.0  1.9  Iris-virginica\n147  6.5  3.0  5.2  2.0  Iris-virginica\n148  6.2  3.4  5.4  2.3  Iris-virginica\n149  5.9  3.0  5.1  1.8  Iris-virginica",
      "text/html": "<div>\n<style scoped>\n    .dataframe tbody tr th:only-of-type {\n        vertical-align: middle;\n    }\n\n    .dataframe tbody tr th {\n        vertical-align: top;\n    }\n\n    .dataframe thead th {\n        text-align: right;\n    }\n</style>\n<table border=\"1\" class=\"dataframe\">\n  <thead>\n    <tr style=\"text-align: right;\">\n      <th></th>\n      <th>0</th>\n      <th>1</th>\n      <th>2</th>\n      <th>3</th>\n      <th>4</th>\n    </tr>\n  </thead>\n  <tbody>\n    <tr>\n      <th>145</th>\n      <td>6.7</td>\n      <td>3.0</td>\n      <td>5.2</td>\n      <td>2.3</td>\n      <td>Iris-virginica</td>\n    </tr>\n    <tr>\n      <th>146</th>\n      <td>6.3</td>\n      <td>2.5</td>\n      <td>5.0</td>\n      <td>1.9</td>\n      <td>Iris-virginica</td>\n    </tr>\n    <tr>\n      <th>147</th>\n      <td>6.5</td>\n      <td>3.0</td>\n      <td>5.2</td>\n      <td>2.0</td>\n      <td>Iris-virginica</td>\n    </tr>\n    <tr>\n      <th>148</th>\n      <td>6.2</td>\n      <td>3.4</td>\n      <td>5.4</td>\n      <td>2.3</td>\n      <td>Iris-virginica</td>\n    </tr>\n    <tr>\n      <th>149</th>\n      <td>5.9</td>\n      <td>3.0</td>\n      <td>5.1</td>\n      <td>1.8</td>\n      <td>Iris-virginica</td>\n    </tr>\n  </tbody>\n</table>\n</div>"
     },
     "execution_count": 18,
     "metadata": {},
     "output_type": "execute_result"
    }
   ],
   "source": [
    "df.tail()"
   ],
   "metadata": {
    "collapsed": false,
    "pycharm": {
     "name": "#%%\n"
    }
   }
  },
  {
   "cell_type": "markdown",
   "source": [
    "Info about the data:"
   ],
   "metadata": {
    "collapsed": false,
    "pycharm": {
     "name": "#%% md\n"
    }
   }
  },
  {
   "cell_type": "code",
   "execution_count": 17,
   "outputs": [
    {
     "name": "stdout",
     "output_type": "stream",
     "text": [
      "<class 'pandas.core.frame.DataFrame'>\n",
      "RangeIndex: 150 entries, 0 to 149\n",
      "Data columns (total 5 columns):\n",
      " #   Column  Non-Null Count  Dtype  \n",
      "---  ------  --------------  -----  \n",
      " 0   0       150 non-null    float64\n",
      " 1   1       150 non-null    float64\n",
      " 2   2       150 non-null    float64\n",
      " 3   3       150 non-null    float64\n",
      " 4   4       150 non-null    object \n",
      "dtypes: float64(4), object(1)\n",
      "memory usage: 6.0+ KB\n"
     ]
    }
   ],
   "source": [
    "df.info()"
   ],
   "metadata": {
    "collapsed": false,
    "pycharm": {
     "name": "#%%\n"
    }
   }
  },
  {
   "cell_type": "markdown",
   "source": [
    "Attribute Information:\n",
    "1. sepal length in cm\n",
    "2. sepal width in cm\n",
    "3. petal length in cm\n",
    "4. petal width in cm\n",
    "5. class: Iris Setosa, Iris Versicolour, Iris Virginica"
   ],
   "metadata": {
    "collapsed": false,
    "pycharm": {
     "name": "#%% md\n"
    }
   }
  },
  {
   "cell_type": "markdown",
   "source": [
    "Next, we extract the first 100 class labels that correspond to the 50 Iris-setosa and\n",
    "50 Iris-versicolor flowers."
   ],
   "metadata": {
    "collapsed": false,
    "pycharm": {
     "name": "#%% md\n"
    }
   }
  },
  {
   "cell_type": "code",
   "execution_count": 24,
   "outputs": [
    {
     "data": {
      "text/plain": "pandas.core.frame.DataFrame"
     },
     "execution_count": 24,
     "metadata": {},
     "output_type": "execute_result"
    }
   ],
   "source": [
    "#virginica = df[df[4].str.contains(\"Iris-virginica\")]\n",
    "setosa = df[df[4].str.contains(\"Iris-setosa\")]\n",
    "versicolor = df[df[4].str.contains(\"Iris-versicolor\")]\n"
   ],
   "metadata": {
    "collapsed": false,
    "pycharm": {
     "name": "#%%\n"
    }
   }
  },
  {
   "cell_type": "code",
   "execution_count": 26,
   "outputs": [
    {
     "data": {
      "text/plain": "      0    1    2    3            4\n0   5.1  3.5  1.4  0.2  Iris-setosa\n1   4.9  3.0  1.4  0.2  Iris-setosa\n2   4.7  3.2  1.3  0.2  Iris-setosa\n3   4.6  3.1  1.5  0.2  Iris-setosa\n4   5.0  3.6  1.4  0.2  Iris-setosa\n5   5.4  3.9  1.7  0.4  Iris-setosa\n6   4.6  3.4  1.4  0.3  Iris-setosa\n7   5.0  3.4  1.5  0.2  Iris-setosa\n8   4.4  2.9  1.4  0.2  Iris-setosa\n9   4.9  3.1  1.5  0.1  Iris-setosa\n10  5.4  3.7  1.5  0.2  Iris-setosa\n11  4.8  3.4  1.6  0.2  Iris-setosa\n12  4.8  3.0  1.4  0.1  Iris-setosa\n13  4.3  3.0  1.1  0.1  Iris-setosa\n14  5.8  4.0  1.2  0.2  Iris-setosa\n15  5.7  4.4  1.5  0.4  Iris-setosa\n16  5.4  3.9  1.3  0.4  Iris-setosa\n17  5.1  3.5  1.4  0.3  Iris-setosa\n18  5.7  3.8  1.7  0.3  Iris-setosa\n19  5.1  3.8  1.5  0.3  Iris-setosa\n20  5.4  3.4  1.7  0.2  Iris-setosa\n21  5.1  3.7  1.5  0.4  Iris-setosa\n22  4.6  3.6  1.0  0.2  Iris-setosa\n23  5.1  3.3  1.7  0.5  Iris-setosa\n24  4.8  3.4  1.9  0.2  Iris-setosa\n25  5.0  3.0  1.6  0.2  Iris-setosa\n26  5.0  3.4  1.6  0.4  Iris-setosa\n27  5.2  3.5  1.5  0.2  Iris-setosa\n28  5.2  3.4  1.4  0.2  Iris-setosa\n29  4.7  3.2  1.6  0.2  Iris-setosa\n30  4.8  3.1  1.6  0.2  Iris-setosa\n31  5.4  3.4  1.5  0.4  Iris-setosa\n32  5.2  4.1  1.5  0.1  Iris-setosa\n33  5.5  4.2  1.4  0.2  Iris-setosa\n34  4.9  3.1  1.5  0.1  Iris-setosa\n35  5.0  3.2  1.2  0.2  Iris-setosa\n36  5.5  3.5  1.3  0.2  Iris-setosa\n37  4.9  3.1  1.5  0.1  Iris-setosa\n38  4.4  3.0  1.3  0.2  Iris-setosa\n39  5.1  3.4  1.5  0.2  Iris-setosa\n40  5.0  3.5  1.3  0.3  Iris-setosa\n41  4.5  2.3  1.3  0.3  Iris-setosa\n42  4.4  3.2  1.3  0.2  Iris-setosa\n43  5.0  3.5  1.6  0.6  Iris-setosa\n44  5.1  3.8  1.9  0.4  Iris-setosa\n45  4.8  3.0  1.4  0.3  Iris-setosa\n46  5.1  3.8  1.6  0.2  Iris-setosa\n47  4.6  3.2  1.4  0.2  Iris-setosa\n48  5.3  3.7  1.5  0.2  Iris-setosa\n49  5.0  3.3  1.4  0.2  Iris-setosa",
      "text/html": "<div>\n<style scoped>\n    .dataframe tbody tr th:only-of-type {\n        vertical-align: middle;\n    }\n\n    .dataframe tbody tr th {\n        vertical-align: top;\n    }\n\n    .dataframe thead th {\n        text-align: right;\n    }\n</style>\n<table border=\"1\" class=\"dataframe\">\n  <thead>\n    <tr style=\"text-align: right;\">\n      <th></th>\n      <th>0</th>\n      <th>1</th>\n      <th>2</th>\n      <th>3</th>\n      <th>4</th>\n    </tr>\n  </thead>\n  <tbody>\n    <tr>\n      <th>0</th>\n      <td>5.1</td>\n      <td>3.5</td>\n      <td>1.4</td>\n      <td>0.2</td>\n      <td>Iris-setosa</td>\n    </tr>\n    <tr>\n      <th>1</th>\n      <td>4.9</td>\n      <td>3.0</td>\n      <td>1.4</td>\n      <td>0.2</td>\n      <td>Iris-setosa</td>\n    </tr>\n    <tr>\n      <th>2</th>\n      <td>4.7</td>\n      <td>3.2</td>\n      <td>1.3</td>\n      <td>0.2</td>\n      <td>Iris-setosa</td>\n    </tr>\n    <tr>\n      <th>3</th>\n      <td>4.6</td>\n      <td>3.1</td>\n      <td>1.5</td>\n      <td>0.2</td>\n      <td>Iris-setosa</td>\n    </tr>\n    <tr>\n      <th>4</th>\n      <td>5.0</td>\n      <td>3.6</td>\n      <td>1.4</td>\n      <td>0.2</td>\n      <td>Iris-setosa</td>\n    </tr>\n    <tr>\n      <th>5</th>\n      <td>5.4</td>\n      <td>3.9</td>\n      <td>1.7</td>\n      <td>0.4</td>\n      <td>Iris-setosa</td>\n    </tr>\n    <tr>\n      <th>6</th>\n      <td>4.6</td>\n      <td>3.4</td>\n      <td>1.4</td>\n      <td>0.3</td>\n      <td>Iris-setosa</td>\n    </tr>\n    <tr>\n      <th>7</th>\n      <td>5.0</td>\n      <td>3.4</td>\n      <td>1.5</td>\n      <td>0.2</td>\n      <td>Iris-setosa</td>\n    </tr>\n    <tr>\n      <th>8</th>\n      <td>4.4</td>\n      <td>2.9</td>\n      <td>1.4</td>\n      <td>0.2</td>\n      <td>Iris-setosa</td>\n    </tr>\n    <tr>\n      <th>9</th>\n      <td>4.9</td>\n      <td>3.1</td>\n      <td>1.5</td>\n      <td>0.1</td>\n      <td>Iris-setosa</td>\n    </tr>\n    <tr>\n      <th>10</th>\n      <td>5.4</td>\n      <td>3.7</td>\n      <td>1.5</td>\n      <td>0.2</td>\n      <td>Iris-setosa</td>\n    </tr>\n    <tr>\n      <th>11</th>\n      <td>4.8</td>\n      <td>3.4</td>\n      <td>1.6</td>\n      <td>0.2</td>\n      <td>Iris-setosa</td>\n    </tr>\n    <tr>\n      <th>12</th>\n      <td>4.8</td>\n      <td>3.0</td>\n      <td>1.4</td>\n      <td>0.1</td>\n      <td>Iris-setosa</td>\n    </tr>\n    <tr>\n      <th>13</th>\n      <td>4.3</td>\n      <td>3.0</td>\n      <td>1.1</td>\n      <td>0.1</td>\n      <td>Iris-setosa</td>\n    </tr>\n    <tr>\n      <th>14</th>\n      <td>5.8</td>\n      <td>4.0</td>\n      <td>1.2</td>\n      <td>0.2</td>\n      <td>Iris-setosa</td>\n    </tr>\n    <tr>\n      <th>15</th>\n      <td>5.7</td>\n      <td>4.4</td>\n      <td>1.5</td>\n      <td>0.4</td>\n      <td>Iris-setosa</td>\n    </tr>\n    <tr>\n      <th>16</th>\n      <td>5.4</td>\n      <td>3.9</td>\n      <td>1.3</td>\n      <td>0.4</td>\n      <td>Iris-setosa</td>\n    </tr>\n    <tr>\n      <th>17</th>\n      <td>5.1</td>\n      <td>3.5</td>\n      <td>1.4</td>\n      <td>0.3</td>\n      <td>Iris-setosa</td>\n    </tr>\n    <tr>\n      <th>18</th>\n      <td>5.7</td>\n      <td>3.8</td>\n      <td>1.7</td>\n      <td>0.3</td>\n      <td>Iris-setosa</td>\n    </tr>\n    <tr>\n      <th>19</th>\n      <td>5.1</td>\n      <td>3.8</td>\n      <td>1.5</td>\n      <td>0.3</td>\n      <td>Iris-setosa</td>\n    </tr>\n    <tr>\n      <th>20</th>\n      <td>5.4</td>\n      <td>3.4</td>\n      <td>1.7</td>\n      <td>0.2</td>\n      <td>Iris-setosa</td>\n    </tr>\n    <tr>\n      <th>21</th>\n      <td>5.1</td>\n      <td>3.7</td>\n      <td>1.5</td>\n      <td>0.4</td>\n      <td>Iris-setosa</td>\n    </tr>\n    <tr>\n      <th>22</th>\n      <td>4.6</td>\n      <td>3.6</td>\n      <td>1.0</td>\n      <td>0.2</td>\n      <td>Iris-setosa</td>\n    </tr>\n    <tr>\n      <th>23</th>\n      <td>5.1</td>\n      <td>3.3</td>\n      <td>1.7</td>\n      <td>0.5</td>\n      <td>Iris-setosa</td>\n    </tr>\n    <tr>\n      <th>24</th>\n      <td>4.8</td>\n      <td>3.4</td>\n      <td>1.9</td>\n      <td>0.2</td>\n      <td>Iris-setosa</td>\n    </tr>\n    <tr>\n      <th>25</th>\n      <td>5.0</td>\n      <td>3.0</td>\n      <td>1.6</td>\n      <td>0.2</td>\n      <td>Iris-setosa</td>\n    </tr>\n    <tr>\n      <th>26</th>\n      <td>5.0</td>\n      <td>3.4</td>\n      <td>1.6</td>\n      <td>0.4</td>\n      <td>Iris-setosa</td>\n    </tr>\n    <tr>\n      <th>27</th>\n      <td>5.2</td>\n      <td>3.5</td>\n      <td>1.5</td>\n      <td>0.2</td>\n      <td>Iris-setosa</td>\n    </tr>\n    <tr>\n      <th>28</th>\n      <td>5.2</td>\n      <td>3.4</td>\n      <td>1.4</td>\n      <td>0.2</td>\n      <td>Iris-setosa</td>\n    </tr>\n    <tr>\n      <th>29</th>\n      <td>4.7</td>\n      <td>3.2</td>\n      <td>1.6</td>\n      <td>0.2</td>\n      <td>Iris-setosa</td>\n    </tr>\n    <tr>\n      <th>30</th>\n      <td>4.8</td>\n      <td>3.1</td>\n      <td>1.6</td>\n      <td>0.2</td>\n      <td>Iris-setosa</td>\n    </tr>\n    <tr>\n      <th>31</th>\n      <td>5.4</td>\n      <td>3.4</td>\n      <td>1.5</td>\n      <td>0.4</td>\n      <td>Iris-setosa</td>\n    </tr>\n    <tr>\n      <th>32</th>\n      <td>5.2</td>\n      <td>4.1</td>\n      <td>1.5</td>\n      <td>0.1</td>\n      <td>Iris-setosa</td>\n    </tr>\n    <tr>\n      <th>33</th>\n      <td>5.5</td>\n      <td>4.2</td>\n      <td>1.4</td>\n      <td>0.2</td>\n      <td>Iris-setosa</td>\n    </tr>\n    <tr>\n      <th>34</th>\n      <td>4.9</td>\n      <td>3.1</td>\n      <td>1.5</td>\n      <td>0.1</td>\n      <td>Iris-setosa</td>\n    </tr>\n    <tr>\n      <th>35</th>\n      <td>5.0</td>\n      <td>3.2</td>\n      <td>1.2</td>\n      <td>0.2</td>\n      <td>Iris-setosa</td>\n    </tr>\n    <tr>\n      <th>36</th>\n      <td>5.5</td>\n      <td>3.5</td>\n      <td>1.3</td>\n      <td>0.2</td>\n      <td>Iris-setosa</td>\n    </tr>\n    <tr>\n      <th>37</th>\n      <td>4.9</td>\n      <td>3.1</td>\n      <td>1.5</td>\n      <td>0.1</td>\n      <td>Iris-setosa</td>\n    </tr>\n    <tr>\n      <th>38</th>\n      <td>4.4</td>\n      <td>3.0</td>\n      <td>1.3</td>\n      <td>0.2</td>\n      <td>Iris-setosa</td>\n    </tr>\n    <tr>\n      <th>39</th>\n      <td>5.1</td>\n      <td>3.4</td>\n      <td>1.5</td>\n      <td>0.2</td>\n      <td>Iris-setosa</td>\n    </tr>\n    <tr>\n      <th>40</th>\n      <td>5.0</td>\n      <td>3.5</td>\n      <td>1.3</td>\n      <td>0.3</td>\n      <td>Iris-setosa</td>\n    </tr>\n    <tr>\n      <th>41</th>\n      <td>4.5</td>\n      <td>2.3</td>\n      <td>1.3</td>\n      <td>0.3</td>\n      <td>Iris-setosa</td>\n    </tr>\n    <tr>\n      <th>42</th>\n      <td>4.4</td>\n      <td>3.2</td>\n      <td>1.3</td>\n      <td>0.2</td>\n      <td>Iris-setosa</td>\n    </tr>\n    <tr>\n      <th>43</th>\n      <td>5.0</td>\n      <td>3.5</td>\n      <td>1.6</td>\n      <td>0.6</td>\n      <td>Iris-setosa</td>\n    </tr>\n    <tr>\n      <th>44</th>\n      <td>5.1</td>\n      <td>3.8</td>\n      <td>1.9</td>\n      <td>0.4</td>\n      <td>Iris-setosa</td>\n    </tr>\n    <tr>\n      <th>45</th>\n      <td>4.8</td>\n      <td>3.0</td>\n      <td>1.4</td>\n      <td>0.3</td>\n      <td>Iris-setosa</td>\n    </tr>\n    <tr>\n      <th>46</th>\n      <td>5.1</td>\n      <td>3.8</td>\n      <td>1.6</td>\n      <td>0.2</td>\n      <td>Iris-setosa</td>\n    </tr>\n    <tr>\n      <th>47</th>\n      <td>4.6</td>\n      <td>3.2</td>\n      <td>1.4</td>\n      <td>0.2</td>\n      <td>Iris-setosa</td>\n    </tr>\n    <tr>\n      <th>48</th>\n      <td>5.3</td>\n      <td>3.7</td>\n      <td>1.5</td>\n      <td>0.2</td>\n      <td>Iris-setosa</td>\n    </tr>\n    <tr>\n      <th>49</th>\n      <td>5.0</td>\n      <td>3.3</td>\n      <td>1.4</td>\n      <td>0.2</td>\n      <td>Iris-setosa</td>\n    </tr>\n  </tbody>\n</table>\n</div>"
     },
     "execution_count": 26,
     "metadata": {},
     "output_type": "execute_result"
    }
   ],
   "source": [
    "setosa"
   ],
   "metadata": {
    "collapsed": false,
    "pycharm": {
     "name": "#%%\n"
    }
   }
  },
  {
   "cell_type": "code",
   "execution_count": 25,
   "outputs": [
    {
     "data": {
      "text/plain": "      0    1    2    3                4\n50  7.0  3.2  4.7  1.4  Iris-versicolor\n51  6.4  3.2  4.5  1.5  Iris-versicolor\n52  6.9  3.1  4.9  1.5  Iris-versicolor\n53  5.5  2.3  4.0  1.3  Iris-versicolor\n54  6.5  2.8  4.6  1.5  Iris-versicolor\n55  5.7  2.8  4.5  1.3  Iris-versicolor\n56  6.3  3.3  4.7  1.6  Iris-versicolor\n57  4.9  2.4  3.3  1.0  Iris-versicolor\n58  6.6  2.9  4.6  1.3  Iris-versicolor\n59  5.2  2.7  3.9  1.4  Iris-versicolor\n60  5.0  2.0  3.5  1.0  Iris-versicolor\n61  5.9  3.0  4.2  1.5  Iris-versicolor\n62  6.0  2.2  4.0  1.0  Iris-versicolor\n63  6.1  2.9  4.7  1.4  Iris-versicolor\n64  5.6  2.9  3.6  1.3  Iris-versicolor\n65  6.7  3.1  4.4  1.4  Iris-versicolor\n66  5.6  3.0  4.5  1.5  Iris-versicolor\n67  5.8  2.7  4.1  1.0  Iris-versicolor\n68  6.2  2.2  4.5  1.5  Iris-versicolor\n69  5.6  2.5  3.9  1.1  Iris-versicolor\n70  5.9  3.2  4.8  1.8  Iris-versicolor\n71  6.1  2.8  4.0  1.3  Iris-versicolor\n72  6.3  2.5  4.9  1.5  Iris-versicolor\n73  6.1  2.8  4.7  1.2  Iris-versicolor\n74  6.4  2.9  4.3  1.3  Iris-versicolor\n75  6.6  3.0  4.4  1.4  Iris-versicolor\n76  6.8  2.8  4.8  1.4  Iris-versicolor\n77  6.7  3.0  5.0  1.7  Iris-versicolor\n78  6.0  2.9  4.5  1.5  Iris-versicolor\n79  5.7  2.6  3.5  1.0  Iris-versicolor\n80  5.5  2.4  3.8  1.1  Iris-versicolor\n81  5.5  2.4  3.7  1.0  Iris-versicolor\n82  5.8  2.7  3.9  1.2  Iris-versicolor\n83  6.0  2.7  5.1  1.6  Iris-versicolor\n84  5.4  3.0  4.5  1.5  Iris-versicolor\n85  6.0  3.4  4.5  1.6  Iris-versicolor\n86  6.7  3.1  4.7  1.5  Iris-versicolor\n87  6.3  2.3  4.4  1.3  Iris-versicolor\n88  5.6  3.0  4.1  1.3  Iris-versicolor\n89  5.5  2.5  4.0  1.3  Iris-versicolor\n90  5.5  2.6  4.4  1.2  Iris-versicolor\n91  6.1  3.0  4.6  1.4  Iris-versicolor\n92  5.8  2.6  4.0  1.2  Iris-versicolor\n93  5.0  2.3  3.3  1.0  Iris-versicolor\n94  5.6  2.7  4.2  1.3  Iris-versicolor\n95  5.7  3.0  4.2  1.2  Iris-versicolor\n96  5.7  2.9  4.2  1.3  Iris-versicolor\n97  6.2  2.9  4.3  1.3  Iris-versicolor\n98  5.1  2.5  3.0  1.1  Iris-versicolor\n99  5.7  2.8  4.1  1.3  Iris-versicolor",
      "text/html": "<div>\n<style scoped>\n    .dataframe tbody tr th:only-of-type {\n        vertical-align: middle;\n    }\n\n    .dataframe tbody tr th {\n        vertical-align: top;\n    }\n\n    .dataframe thead th {\n        text-align: right;\n    }\n</style>\n<table border=\"1\" class=\"dataframe\">\n  <thead>\n    <tr style=\"text-align: right;\">\n      <th></th>\n      <th>0</th>\n      <th>1</th>\n      <th>2</th>\n      <th>3</th>\n      <th>4</th>\n    </tr>\n  </thead>\n  <tbody>\n    <tr>\n      <th>50</th>\n      <td>7.0</td>\n      <td>3.2</td>\n      <td>4.7</td>\n      <td>1.4</td>\n      <td>Iris-versicolor</td>\n    </tr>\n    <tr>\n      <th>51</th>\n      <td>6.4</td>\n      <td>3.2</td>\n      <td>4.5</td>\n      <td>1.5</td>\n      <td>Iris-versicolor</td>\n    </tr>\n    <tr>\n      <th>52</th>\n      <td>6.9</td>\n      <td>3.1</td>\n      <td>4.9</td>\n      <td>1.5</td>\n      <td>Iris-versicolor</td>\n    </tr>\n    <tr>\n      <th>53</th>\n      <td>5.5</td>\n      <td>2.3</td>\n      <td>4.0</td>\n      <td>1.3</td>\n      <td>Iris-versicolor</td>\n    </tr>\n    <tr>\n      <th>54</th>\n      <td>6.5</td>\n      <td>2.8</td>\n      <td>4.6</td>\n      <td>1.5</td>\n      <td>Iris-versicolor</td>\n    </tr>\n    <tr>\n      <th>55</th>\n      <td>5.7</td>\n      <td>2.8</td>\n      <td>4.5</td>\n      <td>1.3</td>\n      <td>Iris-versicolor</td>\n    </tr>\n    <tr>\n      <th>56</th>\n      <td>6.3</td>\n      <td>3.3</td>\n      <td>4.7</td>\n      <td>1.6</td>\n      <td>Iris-versicolor</td>\n    </tr>\n    <tr>\n      <th>57</th>\n      <td>4.9</td>\n      <td>2.4</td>\n      <td>3.3</td>\n      <td>1.0</td>\n      <td>Iris-versicolor</td>\n    </tr>\n    <tr>\n      <th>58</th>\n      <td>6.6</td>\n      <td>2.9</td>\n      <td>4.6</td>\n      <td>1.3</td>\n      <td>Iris-versicolor</td>\n    </tr>\n    <tr>\n      <th>59</th>\n      <td>5.2</td>\n      <td>2.7</td>\n      <td>3.9</td>\n      <td>1.4</td>\n      <td>Iris-versicolor</td>\n    </tr>\n    <tr>\n      <th>60</th>\n      <td>5.0</td>\n      <td>2.0</td>\n      <td>3.5</td>\n      <td>1.0</td>\n      <td>Iris-versicolor</td>\n    </tr>\n    <tr>\n      <th>61</th>\n      <td>5.9</td>\n      <td>3.0</td>\n      <td>4.2</td>\n      <td>1.5</td>\n      <td>Iris-versicolor</td>\n    </tr>\n    <tr>\n      <th>62</th>\n      <td>6.0</td>\n      <td>2.2</td>\n      <td>4.0</td>\n      <td>1.0</td>\n      <td>Iris-versicolor</td>\n    </tr>\n    <tr>\n      <th>63</th>\n      <td>6.1</td>\n      <td>2.9</td>\n      <td>4.7</td>\n      <td>1.4</td>\n      <td>Iris-versicolor</td>\n    </tr>\n    <tr>\n      <th>64</th>\n      <td>5.6</td>\n      <td>2.9</td>\n      <td>3.6</td>\n      <td>1.3</td>\n      <td>Iris-versicolor</td>\n    </tr>\n    <tr>\n      <th>65</th>\n      <td>6.7</td>\n      <td>3.1</td>\n      <td>4.4</td>\n      <td>1.4</td>\n      <td>Iris-versicolor</td>\n    </tr>\n    <tr>\n      <th>66</th>\n      <td>5.6</td>\n      <td>3.0</td>\n      <td>4.5</td>\n      <td>1.5</td>\n      <td>Iris-versicolor</td>\n    </tr>\n    <tr>\n      <th>67</th>\n      <td>5.8</td>\n      <td>2.7</td>\n      <td>4.1</td>\n      <td>1.0</td>\n      <td>Iris-versicolor</td>\n    </tr>\n    <tr>\n      <th>68</th>\n      <td>6.2</td>\n      <td>2.2</td>\n      <td>4.5</td>\n      <td>1.5</td>\n      <td>Iris-versicolor</td>\n    </tr>\n    <tr>\n      <th>69</th>\n      <td>5.6</td>\n      <td>2.5</td>\n      <td>3.9</td>\n      <td>1.1</td>\n      <td>Iris-versicolor</td>\n    </tr>\n    <tr>\n      <th>70</th>\n      <td>5.9</td>\n      <td>3.2</td>\n      <td>4.8</td>\n      <td>1.8</td>\n      <td>Iris-versicolor</td>\n    </tr>\n    <tr>\n      <th>71</th>\n      <td>6.1</td>\n      <td>2.8</td>\n      <td>4.0</td>\n      <td>1.3</td>\n      <td>Iris-versicolor</td>\n    </tr>\n    <tr>\n      <th>72</th>\n      <td>6.3</td>\n      <td>2.5</td>\n      <td>4.9</td>\n      <td>1.5</td>\n      <td>Iris-versicolor</td>\n    </tr>\n    <tr>\n      <th>73</th>\n      <td>6.1</td>\n      <td>2.8</td>\n      <td>4.7</td>\n      <td>1.2</td>\n      <td>Iris-versicolor</td>\n    </tr>\n    <tr>\n      <th>74</th>\n      <td>6.4</td>\n      <td>2.9</td>\n      <td>4.3</td>\n      <td>1.3</td>\n      <td>Iris-versicolor</td>\n    </tr>\n    <tr>\n      <th>75</th>\n      <td>6.6</td>\n      <td>3.0</td>\n      <td>4.4</td>\n      <td>1.4</td>\n      <td>Iris-versicolor</td>\n    </tr>\n    <tr>\n      <th>76</th>\n      <td>6.8</td>\n      <td>2.8</td>\n      <td>4.8</td>\n      <td>1.4</td>\n      <td>Iris-versicolor</td>\n    </tr>\n    <tr>\n      <th>77</th>\n      <td>6.7</td>\n      <td>3.0</td>\n      <td>5.0</td>\n      <td>1.7</td>\n      <td>Iris-versicolor</td>\n    </tr>\n    <tr>\n      <th>78</th>\n      <td>6.0</td>\n      <td>2.9</td>\n      <td>4.5</td>\n      <td>1.5</td>\n      <td>Iris-versicolor</td>\n    </tr>\n    <tr>\n      <th>79</th>\n      <td>5.7</td>\n      <td>2.6</td>\n      <td>3.5</td>\n      <td>1.0</td>\n      <td>Iris-versicolor</td>\n    </tr>\n    <tr>\n      <th>80</th>\n      <td>5.5</td>\n      <td>2.4</td>\n      <td>3.8</td>\n      <td>1.1</td>\n      <td>Iris-versicolor</td>\n    </tr>\n    <tr>\n      <th>81</th>\n      <td>5.5</td>\n      <td>2.4</td>\n      <td>3.7</td>\n      <td>1.0</td>\n      <td>Iris-versicolor</td>\n    </tr>\n    <tr>\n      <th>82</th>\n      <td>5.8</td>\n      <td>2.7</td>\n      <td>3.9</td>\n      <td>1.2</td>\n      <td>Iris-versicolor</td>\n    </tr>\n    <tr>\n      <th>83</th>\n      <td>6.0</td>\n      <td>2.7</td>\n      <td>5.1</td>\n      <td>1.6</td>\n      <td>Iris-versicolor</td>\n    </tr>\n    <tr>\n      <th>84</th>\n      <td>5.4</td>\n      <td>3.0</td>\n      <td>4.5</td>\n      <td>1.5</td>\n      <td>Iris-versicolor</td>\n    </tr>\n    <tr>\n      <th>85</th>\n      <td>6.0</td>\n      <td>3.4</td>\n      <td>4.5</td>\n      <td>1.6</td>\n      <td>Iris-versicolor</td>\n    </tr>\n    <tr>\n      <th>86</th>\n      <td>6.7</td>\n      <td>3.1</td>\n      <td>4.7</td>\n      <td>1.5</td>\n      <td>Iris-versicolor</td>\n    </tr>\n    <tr>\n      <th>87</th>\n      <td>6.3</td>\n      <td>2.3</td>\n      <td>4.4</td>\n      <td>1.3</td>\n      <td>Iris-versicolor</td>\n    </tr>\n    <tr>\n      <th>88</th>\n      <td>5.6</td>\n      <td>3.0</td>\n      <td>4.1</td>\n      <td>1.3</td>\n      <td>Iris-versicolor</td>\n    </tr>\n    <tr>\n      <th>89</th>\n      <td>5.5</td>\n      <td>2.5</td>\n      <td>4.0</td>\n      <td>1.3</td>\n      <td>Iris-versicolor</td>\n    </tr>\n    <tr>\n      <th>90</th>\n      <td>5.5</td>\n      <td>2.6</td>\n      <td>4.4</td>\n      <td>1.2</td>\n      <td>Iris-versicolor</td>\n    </tr>\n    <tr>\n      <th>91</th>\n      <td>6.1</td>\n      <td>3.0</td>\n      <td>4.6</td>\n      <td>1.4</td>\n      <td>Iris-versicolor</td>\n    </tr>\n    <tr>\n      <th>92</th>\n      <td>5.8</td>\n      <td>2.6</td>\n      <td>4.0</td>\n      <td>1.2</td>\n      <td>Iris-versicolor</td>\n    </tr>\n    <tr>\n      <th>93</th>\n      <td>5.0</td>\n      <td>2.3</td>\n      <td>3.3</td>\n      <td>1.0</td>\n      <td>Iris-versicolor</td>\n    </tr>\n    <tr>\n      <th>94</th>\n      <td>5.6</td>\n      <td>2.7</td>\n      <td>4.2</td>\n      <td>1.3</td>\n      <td>Iris-versicolor</td>\n    </tr>\n    <tr>\n      <th>95</th>\n      <td>5.7</td>\n      <td>3.0</td>\n      <td>4.2</td>\n      <td>1.2</td>\n      <td>Iris-versicolor</td>\n    </tr>\n    <tr>\n      <th>96</th>\n      <td>5.7</td>\n      <td>2.9</td>\n      <td>4.2</td>\n      <td>1.3</td>\n      <td>Iris-versicolor</td>\n    </tr>\n    <tr>\n      <th>97</th>\n      <td>6.2</td>\n      <td>2.9</td>\n      <td>4.3</td>\n      <td>1.3</td>\n      <td>Iris-versicolor</td>\n    </tr>\n    <tr>\n      <th>98</th>\n      <td>5.1</td>\n      <td>2.5</td>\n      <td>3.0</td>\n      <td>1.1</td>\n      <td>Iris-versicolor</td>\n    </tr>\n    <tr>\n      <th>99</th>\n      <td>5.7</td>\n      <td>2.8</td>\n      <td>4.1</td>\n      <td>1.3</td>\n      <td>Iris-versicolor</td>\n    </tr>\n  </tbody>\n</table>\n</div>"
     },
     "execution_count": 25,
     "metadata": {},
     "output_type": "execute_result"
    }
   ],
   "source": [
    "versicolor"
   ],
   "metadata": {
    "collapsed": false,
    "pycharm": {
     "name": "#%%\n"
    }
   }
  },
  {
   "cell_type": "markdown",
   "source": [
    "Convert string class labels into integer class labels, -1 for setosa, 1 for versicolor"
   ],
   "metadata": {
    "collapsed": false,
    "pycharm": {
     "name": "#%% md\n"
    }
   }
  },
  {
   "cell_type": "code",
   "execution_count": 70,
   "outputs": [
    {
     "data": {
      "text/plain": "      0    1    2    3            4  class_lbl\n0   5.1  3.5  1.4  0.2  Iris-setosa         -1\n1   4.9  3.0  1.4  0.2  Iris-setosa         -1\n2   4.7  3.2  1.3  0.2  Iris-setosa         -1\n3   4.6  3.1  1.5  0.2  Iris-setosa         -1\n4   5.0  3.6  1.4  0.2  Iris-setosa         -1\n5   5.4  3.9  1.7  0.4  Iris-setosa         -1\n6   4.6  3.4  1.4  0.3  Iris-setosa         -1\n7   5.0  3.4  1.5  0.2  Iris-setosa         -1\n8   4.4  2.9  1.4  0.2  Iris-setosa         -1\n9   4.9  3.1  1.5  0.1  Iris-setosa         -1\n10  5.4  3.7  1.5  0.2  Iris-setosa         -1\n11  4.8  3.4  1.6  0.2  Iris-setosa         -1\n12  4.8  3.0  1.4  0.1  Iris-setosa         -1\n13  4.3  3.0  1.1  0.1  Iris-setosa         -1\n14  5.8  4.0  1.2  0.2  Iris-setosa         -1\n15  5.7  4.4  1.5  0.4  Iris-setosa         -1\n16  5.4  3.9  1.3  0.4  Iris-setosa         -1\n17  5.1  3.5  1.4  0.3  Iris-setosa         -1\n18  5.7  3.8  1.7  0.3  Iris-setosa         -1\n19  5.1  3.8  1.5  0.3  Iris-setosa         -1\n20  5.4  3.4  1.7  0.2  Iris-setosa         -1\n21  5.1  3.7  1.5  0.4  Iris-setosa         -1\n22  4.6  3.6  1.0  0.2  Iris-setosa         -1\n23  5.1  3.3  1.7  0.5  Iris-setosa         -1\n24  4.8  3.4  1.9  0.2  Iris-setosa         -1\n25  5.0  3.0  1.6  0.2  Iris-setosa         -1\n26  5.0  3.4  1.6  0.4  Iris-setosa         -1\n27  5.2  3.5  1.5  0.2  Iris-setosa         -1\n28  5.2  3.4  1.4  0.2  Iris-setosa         -1\n29  4.7  3.2  1.6  0.2  Iris-setosa         -1\n30  4.8  3.1  1.6  0.2  Iris-setosa         -1\n31  5.4  3.4  1.5  0.4  Iris-setosa         -1\n32  5.2  4.1  1.5  0.1  Iris-setosa         -1\n33  5.5  4.2  1.4  0.2  Iris-setosa         -1\n34  4.9  3.1  1.5  0.1  Iris-setosa         -1\n35  5.0  3.2  1.2  0.2  Iris-setosa         -1\n36  5.5  3.5  1.3  0.2  Iris-setosa         -1\n37  4.9  3.1  1.5  0.1  Iris-setosa         -1\n38  4.4  3.0  1.3  0.2  Iris-setosa         -1\n39  5.1  3.4  1.5  0.2  Iris-setosa         -1\n40  5.0  3.5  1.3  0.3  Iris-setosa         -1\n41  4.5  2.3  1.3  0.3  Iris-setosa         -1\n42  4.4  3.2  1.3  0.2  Iris-setosa         -1\n43  5.0  3.5  1.6  0.6  Iris-setosa         -1\n44  5.1  3.8  1.9  0.4  Iris-setosa         -1\n45  4.8  3.0  1.4  0.3  Iris-setosa         -1\n46  5.1  3.8  1.6  0.2  Iris-setosa         -1\n47  4.6  3.2  1.4  0.2  Iris-setosa         -1\n48  5.3  3.7  1.5  0.2  Iris-setosa         -1\n49  5.0  3.3  1.4  0.2  Iris-setosa         -1",
      "text/html": "<div>\n<style scoped>\n    .dataframe tbody tr th:only-of-type {\n        vertical-align: middle;\n    }\n\n    .dataframe tbody tr th {\n        vertical-align: top;\n    }\n\n    .dataframe thead th {\n        text-align: right;\n    }\n</style>\n<table border=\"1\" class=\"dataframe\">\n  <thead>\n    <tr style=\"text-align: right;\">\n      <th></th>\n      <th>0</th>\n      <th>1</th>\n      <th>2</th>\n      <th>3</th>\n      <th>4</th>\n      <th>class_lbl</th>\n    </tr>\n  </thead>\n  <tbody>\n    <tr>\n      <th>0</th>\n      <td>5.1</td>\n      <td>3.5</td>\n      <td>1.4</td>\n      <td>0.2</td>\n      <td>Iris-setosa</td>\n      <td>-1</td>\n    </tr>\n    <tr>\n      <th>1</th>\n      <td>4.9</td>\n      <td>3.0</td>\n      <td>1.4</td>\n      <td>0.2</td>\n      <td>Iris-setosa</td>\n      <td>-1</td>\n    </tr>\n    <tr>\n      <th>2</th>\n      <td>4.7</td>\n      <td>3.2</td>\n      <td>1.3</td>\n      <td>0.2</td>\n      <td>Iris-setosa</td>\n      <td>-1</td>\n    </tr>\n    <tr>\n      <th>3</th>\n      <td>4.6</td>\n      <td>3.1</td>\n      <td>1.5</td>\n      <td>0.2</td>\n      <td>Iris-setosa</td>\n      <td>-1</td>\n    </tr>\n    <tr>\n      <th>4</th>\n      <td>5.0</td>\n      <td>3.6</td>\n      <td>1.4</td>\n      <td>0.2</td>\n      <td>Iris-setosa</td>\n      <td>-1</td>\n    </tr>\n    <tr>\n      <th>5</th>\n      <td>5.4</td>\n      <td>3.9</td>\n      <td>1.7</td>\n      <td>0.4</td>\n      <td>Iris-setosa</td>\n      <td>-1</td>\n    </tr>\n    <tr>\n      <th>6</th>\n      <td>4.6</td>\n      <td>3.4</td>\n      <td>1.4</td>\n      <td>0.3</td>\n      <td>Iris-setosa</td>\n      <td>-1</td>\n    </tr>\n    <tr>\n      <th>7</th>\n      <td>5.0</td>\n      <td>3.4</td>\n      <td>1.5</td>\n      <td>0.2</td>\n      <td>Iris-setosa</td>\n      <td>-1</td>\n    </tr>\n    <tr>\n      <th>8</th>\n      <td>4.4</td>\n      <td>2.9</td>\n      <td>1.4</td>\n      <td>0.2</td>\n      <td>Iris-setosa</td>\n      <td>-1</td>\n    </tr>\n    <tr>\n      <th>9</th>\n      <td>4.9</td>\n      <td>3.1</td>\n      <td>1.5</td>\n      <td>0.1</td>\n      <td>Iris-setosa</td>\n      <td>-1</td>\n    </tr>\n    <tr>\n      <th>10</th>\n      <td>5.4</td>\n      <td>3.7</td>\n      <td>1.5</td>\n      <td>0.2</td>\n      <td>Iris-setosa</td>\n      <td>-1</td>\n    </tr>\n    <tr>\n      <th>11</th>\n      <td>4.8</td>\n      <td>3.4</td>\n      <td>1.6</td>\n      <td>0.2</td>\n      <td>Iris-setosa</td>\n      <td>-1</td>\n    </tr>\n    <tr>\n      <th>12</th>\n      <td>4.8</td>\n      <td>3.0</td>\n      <td>1.4</td>\n      <td>0.1</td>\n      <td>Iris-setosa</td>\n      <td>-1</td>\n    </tr>\n    <tr>\n      <th>13</th>\n      <td>4.3</td>\n      <td>3.0</td>\n      <td>1.1</td>\n      <td>0.1</td>\n      <td>Iris-setosa</td>\n      <td>-1</td>\n    </tr>\n    <tr>\n      <th>14</th>\n      <td>5.8</td>\n      <td>4.0</td>\n      <td>1.2</td>\n      <td>0.2</td>\n      <td>Iris-setosa</td>\n      <td>-1</td>\n    </tr>\n    <tr>\n      <th>15</th>\n      <td>5.7</td>\n      <td>4.4</td>\n      <td>1.5</td>\n      <td>0.4</td>\n      <td>Iris-setosa</td>\n      <td>-1</td>\n    </tr>\n    <tr>\n      <th>16</th>\n      <td>5.4</td>\n      <td>3.9</td>\n      <td>1.3</td>\n      <td>0.4</td>\n      <td>Iris-setosa</td>\n      <td>-1</td>\n    </tr>\n    <tr>\n      <th>17</th>\n      <td>5.1</td>\n      <td>3.5</td>\n      <td>1.4</td>\n      <td>0.3</td>\n      <td>Iris-setosa</td>\n      <td>-1</td>\n    </tr>\n    <tr>\n      <th>18</th>\n      <td>5.7</td>\n      <td>3.8</td>\n      <td>1.7</td>\n      <td>0.3</td>\n      <td>Iris-setosa</td>\n      <td>-1</td>\n    </tr>\n    <tr>\n      <th>19</th>\n      <td>5.1</td>\n      <td>3.8</td>\n      <td>1.5</td>\n      <td>0.3</td>\n      <td>Iris-setosa</td>\n      <td>-1</td>\n    </tr>\n    <tr>\n      <th>20</th>\n      <td>5.4</td>\n      <td>3.4</td>\n      <td>1.7</td>\n      <td>0.2</td>\n      <td>Iris-setosa</td>\n      <td>-1</td>\n    </tr>\n    <tr>\n      <th>21</th>\n      <td>5.1</td>\n      <td>3.7</td>\n      <td>1.5</td>\n      <td>0.4</td>\n      <td>Iris-setosa</td>\n      <td>-1</td>\n    </tr>\n    <tr>\n      <th>22</th>\n      <td>4.6</td>\n      <td>3.6</td>\n      <td>1.0</td>\n      <td>0.2</td>\n      <td>Iris-setosa</td>\n      <td>-1</td>\n    </tr>\n    <tr>\n      <th>23</th>\n      <td>5.1</td>\n      <td>3.3</td>\n      <td>1.7</td>\n      <td>0.5</td>\n      <td>Iris-setosa</td>\n      <td>-1</td>\n    </tr>\n    <tr>\n      <th>24</th>\n      <td>4.8</td>\n      <td>3.4</td>\n      <td>1.9</td>\n      <td>0.2</td>\n      <td>Iris-setosa</td>\n      <td>-1</td>\n    </tr>\n    <tr>\n      <th>25</th>\n      <td>5.0</td>\n      <td>3.0</td>\n      <td>1.6</td>\n      <td>0.2</td>\n      <td>Iris-setosa</td>\n      <td>-1</td>\n    </tr>\n    <tr>\n      <th>26</th>\n      <td>5.0</td>\n      <td>3.4</td>\n      <td>1.6</td>\n      <td>0.4</td>\n      <td>Iris-setosa</td>\n      <td>-1</td>\n    </tr>\n    <tr>\n      <th>27</th>\n      <td>5.2</td>\n      <td>3.5</td>\n      <td>1.5</td>\n      <td>0.2</td>\n      <td>Iris-setosa</td>\n      <td>-1</td>\n    </tr>\n    <tr>\n      <th>28</th>\n      <td>5.2</td>\n      <td>3.4</td>\n      <td>1.4</td>\n      <td>0.2</td>\n      <td>Iris-setosa</td>\n      <td>-1</td>\n    </tr>\n    <tr>\n      <th>29</th>\n      <td>4.7</td>\n      <td>3.2</td>\n      <td>1.6</td>\n      <td>0.2</td>\n      <td>Iris-setosa</td>\n      <td>-1</td>\n    </tr>\n    <tr>\n      <th>30</th>\n      <td>4.8</td>\n      <td>3.1</td>\n      <td>1.6</td>\n      <td>0.2</td>\n      <td>Iris-setosa</td>\n      <td>-1</td>\n    </tr>\n    <tr>\n      <th>31</th>\n      <td>5.4</td>\n      <td>3.4</td>\n      <td>1.5</td>\n      <td>0.4</td>\n      <td>Iris-setosa</td>\n      <td>-1</td>\n    </tr>\n    <tr>\n      <th>32</th>\n      <td>5.2</td>\n      <td>4.1</td>\n      <td>1.5</td>\n      <td>0.1</td>\n      <td>Iris-setosa</td>\n      <td>-1</td>\n    </tr>\n    <tr>\n      <th>33</th>\n      <td>5.5</td>\n      <td>4.2</td>\n      <td>1.4</td>\n      <td>0.2</td>\n      <td>Iris-setosa</td>\n      <td>-1</td>\n    </tr>\n    <tr>\n      <th>34</th>\n      <td>4.9</td>\n      <td>3.1</td>\n      <td>1.5</td>\n      <td>0.1</td>\n      <td>Iris-setosa</td>\n      <td>-1</td>\n    </tr>\n    <tr>\n      <th>35</th>\n      <td>5.0</td>\n      <td>3.2</td>\n      <td>1.2</td>\n      <td>0.2</td>\n      <td>Iris-setosa</td>\n      <td>-1</td>\n    </tr>\n    <tr>\n      <th>36</th>\n      <td>5.5</td>\n      <td>3.5</td>\n      <td>1.3</td>\n      <td>0.2</td>\n      <td>Iris-setosa</td>\n      <td>-1</td>\n    </tr>\n    <tr>\n      <th>37</th>\n      <td>4.9</td>\n      <td>3.1</td>\n      <td>1.5</td>\n      <td>0.1</td>\n      <td>Iris-setosa</td>\n      <td>-1</td>\n    </tr>\n    <tr>\n      <th>38</th>\n      <td>4.4</td>\n      <td>3.0</td>\n      <td>1.3</td>\n      <td>0.2</td>\n      <td>Iris-setosa</td>\n      <td>-1</td>\n    </tr>\n    <tr>\n      <th>39</th>\n      <td>5.1</td>\n      <td>3.4</td>\n      <td>1.5</td>\n      <td>0.2</td>\n      <td>Iris-setosa</td>\n      <td>-1</td>\n    </tr>\n    <tr>\n      <th>40</th>\n      <td>5.0</td>\n      <td>3.5</td>\n      <td>1.3</td>\n      <td>0.3</td>\n      <td>Iris-setosa</td>\n      <td>-1</td>\n    </tr>\n    <tr>\n      <th>41</th>\n      <td>4.5</td>\n      <td>2.3</td>\n      <td>1.3</td>\n      <td>0.3</td>\n      <td>Iris-setosa</td>\n      <td>-1</td>\n    </tr>\n    <tr>\n      <th>42</th>\n      <td>4.4</td>\n      <td>3.2</td>\n      <td>1.3</td>\n      <td>0.2</td>\n      <td>Iris-setosa</td>\n      <td>-1</td>\n    </tr>\n    <tr>\n      <th>43</th>\n      <td>5.0</td>\n      <td>3.5</td>\n      <td>1.6</td>\n      <td>0.6</td>\n      <td>Iris-setosa</td>\n      <td>-1</td>\n    </tr>\n    <tr>\n      <th>44</th>\n      <td>5.1</td>\n      <td>3.8</td>\n      <td>1.9</td>\n      <td>0.4</td>\n      <td>Iris-setosa</td>\n      <td>-1</td>\n    </tr>\n    <tr>\n      <th>45</th>\n      <td>4.8</td>\n      <td>3.0</td>\n      <td>1.4</td>\n      <td>0.3</td>\n      <td>Iris-setosa</td>\n      <td>-1</td>\n    </tr>\n    <tr>\n      <th>46</th>\n      <td>5.1</td>\n      <td>3.8</td>\n      <td>1.6</td>\n      <td>0.2</td>\n      <td>Iris-setosa</td>\n      <td>-1</td>\n    </tr>\n    <tr>\n      <th>47</th>\n      <td>4.6</td>\n      <td>3.2</td>\n      <td>1.4</td>\n      <td>0.2</td>\n      <td>Iris-setosa</td>\n      <td>-1</td>\n    </tr>\n    <tr>\n      <th>48</th>\n      <td>5.3</td>\n      <td>3.7</td>\n      <td>1.5</td>\n      <td>0.2</td>\n      <td>Iris-setosa</td>\n      <td>-1</td>\n    </tr>\n    <tr>\n      <th>49</th>\n      <td>5.0</td>\n      <td>3.3</td>\n      <td>1.4</td>\n      <td>0.2</td>\n      <td>Iris-setosa</td>\n      <td>-1</td>\n    </tr>\n  </tbody>\n</table>\n</div>"
     },
     "execution_count": 70,
     "metadata": {},
     "output_type": "execute_result"
    }
   ],
   "source": [
    "# iloc and where and values\n",
    "\n",
    "\n",
    "y_versicolor_s = versicolor[4].replace(\"Iris-versicolor\", -1)\n",
    "y_setosa_s = setosa[4].replace(\"Iris-setosa\", 1)\n",
    "\n",
    "s1 = y_versicolor_s\n",
    "s2 = y_setosa_s\n",
    "\n",
    "#pd.concat([s1, s2], ignore_index=True)\n",
    "\n",
    "X_setosa = setosa.assign(class_lbl=s1.values)"
   ],
   "metadata": {
    "collapsed": false,
    "pycharm": {
     "name": "#%%\n"
    }
   }
  },
  {
   "cell_type": "code",
   "execution_count": 81,
   "outputs": [
    {
     "ename": "NameError",
     "evalue": "name 'X_setosa' is not defined",
     "output_type": "error",
     "traceback": [
      "\u001B[0;31m---------------------------------------------------------------------------\u001B[0m",
      "\u001B[0;31mNameError\u001B[0m                                 Traceback (most recent call last)",
      "\u001B[0;32m<ipython-input-81-7266059a7e2b>\u001B[0m in \u001B[0;36m<module>\u001B[0;34m\u001B[0m\n\u001B[1;32m      1\u001B[0m \u001B[0mX_versicolor\u001B[0m \u001B[0;34m=\u001B[0m \u001B[0mversicolor\u001B[0m\u001B[0;34m.\u001B[0m\u001B[0massign\u001B[0m\u001B[0;34m(\u001B[0m\u001B[0mclass_lbl\u001B[0m\u001B[0;34m=\u001B[0m\u001B[0ms2\u001B[0m\u001B[0;34m.\u001B[0m\u001B[0mvalues\u001B[0m\u001B[0;34m)\u001B[0m\u001B[0;34m\u001B[0m\u001B[0;34m\u001B[0m\u001B[0m\n\u001B[1;32m      2\u001B[0m \u001B[0;34m\u001B[0m\u001B[0m\n\u001B[0;32m----> 3\u001B[0;31m \u001B[0mX_setosa_plot\u001B[0m \u001B[0;34m=\u001B[0m \u001B[0mX_setosa\u001B[0m\u001B[0;34m.\u001B[0m\u001B[0miloc\u001B[0m\u001B[0;34m[\u001B[0m\u001B[0;36m0\u001B[0m\u001B[0;34m:\u001B[0m\u001B[0;34m,\u001B[0m \u001B[0;34m[\u001B[0m\u001B[0;36m0\u001B[0m\u001B[0;34m,\u001B[0m \u001B[0;36m2\u001B[0m\u001B[0;34m]\u001B[0m\u001B[0;34m]\u001B[0m\u001B[0;34m.\u001B[0m\u001B[0mvalues\u001B[0m\u001B[0;34m\u001B[0m\u001B[0;34m\u001B[0m\u001B[0m\n\u001B[0m\u001B[1;32m      4\u001B[0m \u001B[0mX_versicolor_plot\u001B[0m \u001B[0;34m=\u001B[0m \u001B[0mX_versicolor\u001B[0m\u001B[0;34m[\u001B[0m\u001B[0;36m0\u001B[0m\u001B[0;34m:\u001B[0m\u001B[0;34m,\u001B[0m \u001B[0;34m[\u001B[0m\u001B[0;36m0\u001B[0m\u001B[0;34m,\u001B[0m \u001B[0;36m2\u001B[0m\u001B[0;34m]\u001B[0m\u001B[0;34m]\u001B[0m\u001B[0;34m.\u001B[0m\u001B[0mvalues\u001B[0m\u001B[0;34m\u001B[0m\u001B[0;34m\u001B[0m\u001B[0m\n\u001B[1;32m      5\u001B[0m \u001B[0;34m\u001B[0m\u001B[0m\n",
      "\u001B[0;31mNameError\u001B[0m: name 'X_setosa' is not defined"
     ]
    }
   ],
   "source": [
    "X_versicolor = versicolor.assign(class_lbl=s2.values)\n",
    "\n",
    "X_setosa_plot = X_setosa.iloc[0:, [0, 2]].values\n",
    "X_versicolor_plot = X_versicolor[0:, [0, 2]].values"
   ],
   "metadata": {
    "collapsed": false,
    "pycharm": {
     "name": "#%%\n"
    }
   }
  },
  {
   "cell_type": "code",
   "execution_count": 86,
   "outputs": [
    {
     "name": "stderr",
     "output_type": "stream",
     "text": [
      "No handles with labels found to put in legend.\n"
     ]
    },
    {
     "data": {
      "text/plain": "<Figure size 432x288 with 1 Axes>",
      "image/png": "[encoded data removed]"
     },
     "metadata": {
      "needs_background": "light"
     },
     "output_type": "display_data"
    }
   ],
   "source": [
    "# insert color marker label\n",
    "# columns [0] and [2]\n",
    "# sepal length is x , petal length is y\n",
    "\n",
    "X = df.iloc[0:100, [0, 2]].values\n",
    "\n",
    "fig = plt.figure()\n",
    "ax = fig.add_subplot(111)\n",
    "ax.tick_params(axis='x', colors='red')\n",
    "ax.tick_params(axis='y', colors='red')\n",
    "plt.xlabel(\"sepal-length [cm]\")\n",
    "plt.ylabel(\"petal-length [cm]\")\n",
    "ax.xaxis.label.set_color('red')\n",
    "ax.yaxis.label.set_color('red')\n",
    "ax.legend(loc=\"upper left\")\n",
    "ax.scatter(X[:50, 0], X[:50, 1], color='red', marker='o', label='setosa')\n",
    "\n",
    "plt.show()"
   ],
   "metadata": {
    "collapsed": false,
    "pycharm": {
     "name": "#%%\n"
    }
   }
  }
 ],
 "metadata": {
  "kernelspec": {
   "display_name": "Python 3",
   "language": "python",
   "name": "python3"
  },
  "language_info": {
   "codemirror_mode": {
    "name": "ipython",
    "version": 2
   },
   "file_extension": ".py",
   "mimetype": "text/x-python",
   "name": "python",
   "nbconvert_exporter": "python",
   "pygments_lexer": "ipython2",
   "version": "2.7.6"
  }
 },
 "nbformat": 4,
 "nbformat_minor": 0
}